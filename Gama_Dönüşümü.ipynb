{
 "cells": [
  {
   "cell_type": "code",
   "execution_count": 1,
   "id": "55f2332a",
   "metadata": {},
   "outputs": [],
   "source": [
    "import cv2\n",
    "import numpy as np\n",
    "import matplotlib.pyplot as plt\n",
    "\n",
    "img = cv2.imread(\"Manzara_fotografciligi_2.jpg\")\n"
   ]
  },
  {
   "cell_type": "code",
   "execution_count": 2,
   "id": "2b5f7134",
   "metadata": {},
   "outputs": [],
   "source": [
    "def gammaCorrection(src, gamma):\n",
    "    invGamma = 1 / gamma\n",
    "\n",
    "    table = [((i / 255) ** invGamma) * 255 for i in range(256)]\n",
    "    table = np.array(table, np.uint8)\n",
    "\n",
    "    return cv2.LUT(src, table)\n",
    "\n",
    "gammaImg = gammaCorrection(img, 4.4)\n",
    "\n",
    "gammaImg = cv2.putText(gammaImg, 'Gama Donusumu = 4.4 ', (30,30) , cv2.FONT_HERSHEY_SIMPLEX, \n",
    "                   0.6, (255, 0, 0) , 2, cv2.LINE_AA)\n",
    "\n",
    "\n",
    "cv2.imshow('Original image', img)\n",
    "cv2.imshow('Gamma corrected image', gammaImg)\n",
    "cv2.waitKey(0)\n",
    "cv2.destroyAllWindows()"
   ]
  },
  {
   "cell_type": "code",
   "execution_count": null,
   "id": "28ca149f",
   "metadata": {},
   "outputs": [],
   "source": []
  }
 ],
 "metadata": {
  "kernelspec": {
   "display_name": "Python 3 (ipykernel)",
   "language": "python",
   "name": "python3"
  },
  "language_info": {
   "codemirror_mode": {
    "name": "ipython",
    "version": 3
   },
   "file_extension": ".py",
   "mimetype": "text/x-python",
   "name": "python",
   "nbconvert_exporter": "python",
   "pygments_lexer": "ipython3",
   "version": "3.9.12"
  }
 },
 "nbformat": 4,
 "nbformat_minor": 5
}
